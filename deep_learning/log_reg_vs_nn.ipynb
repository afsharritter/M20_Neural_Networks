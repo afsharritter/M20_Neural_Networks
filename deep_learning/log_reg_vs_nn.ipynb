{
 "cells": [
  {
   "cell_type": "code",
   "execution_count": 16,
   "metadata": {},
   "outputs": [],
   "source": [
    "import pandas as pd \n",
    "import sklearn as skl \n",
    "from sklearn.model_selection import train_test_split\n",
    "from sklearn.preprocessing import StandardScaler \n",
    "from sklearn.linear_model import LogisticRegression\n",
    "from sklearn.metrics import confusion_matrix\n",
    "from sklearn.metrics import accuracy_score\n",
    "from imblearn.metrics import classification_report_imbalanced\n",
    "import tensorflow as tf\n",
    "import matplotlib.pyplot as plt"
   ]
  },
  {
   "cell_type": "code",
   "execution_count": 2,
   "metadata": {},
   "outputs": [
    {
     "data": {
      "text/html": [
       "<div>\n",
       "<style scoped>\n",
       "    .dataframe tbody tr th:only-of-type {\n",
       "        vertical-align: middle;\n",
       "    }\n",
       "\n",
       "    .dataframe tbody tr th {\n",
       "        vertical-align: top;\n",
       "    }\n",
       "\n",
       "    .dataframe thead th {\n",
       "        text-align: right;\n",
       "    }\n",
       "</style>\n",
       "<table border=\"1\" class=\"dataframe\">\n",
       "  <thead>\n",
       "    <tr style=\"text-align: right;\">\n",
       "      <th></th>\n",
       "      <th>Pregnancies</th>\n",
       "      <th>Glucose</th>\n",
       "      <th>BloodPressure</th>\n",
       "      <th>SkinThickness</th>\n",
       "      <th>Insulin</th>\n",
       "      <th>BMI</th>\n",
       "      <th>DiabetesPedigreeFunction</th>\n",
       "      <th>Age</th>\n",
       "      <th>Outcome</th>\n",
       "    </tr>\n",
       "  </thead>\n",
       "  <tbody>\n",
       "    <tr>\n",
       "      <th>0</th>\n",
       "      <td>6</td>\n",
       "      <td>148</td>\n",
       "      <td>72</td>\n",
       "      <td>35</td>\n",
       "      <td>0</td>\n",
       "      <td>33.6</td>\n",
       "      <td>0.627</td>\n",
       "      <td>50</td>\n",
       "      <td>1</td>\n",
       "    </tr>\n",
       "    <tr>\n",
       "      <th>1</th>\n",
       "      <td>1</td>\n",
       "      <td>85</td>\n",
       "      <td>66</td>\n",
       "      <td>29</td>\n",
       "      <td>0</td>\n",
       "      <td>26.6</td>\n",
       "      <td>0.351</td>\n",
       "      <td>31</td>\n",
       "      <td>0</td>\n",
       "    </tr>\n",
       "    <tr>\n",
       "      <th>2</th>\n",
       "      <td>8</td>\n",
       "      <td>183</td>\n",
       "      <td>64</td>\n",
       "      <td>0</td>\n",
       "      <td>0</td>\n",
       "      <td>23.3</td>\n",
       "      <td>0.672</td>\n",
       "      <td>32</td>\n",
       "      <td>1</td>\n",
       "    </tr>\n",
       "    <tr>\n",
       "      <th>3</th>\n",
       "      <td>1</td>\n",
       "      <td>89</td>\n",
       "      <td>66</td>\n",
       "      <td>23</td>\n",
       "      <td>94</td>\n",
       "      <td>28.1</td>\n",
       "      <td>0.167</td>\n",
       "      <td>21</td>\n",
       "      <td>0</td>\n",
       "    </tr>\n",
       "    <tr>\n",
       "      <th>4</th>\n",
       "      <td>0</td>\n",
       "      <td>137</td>\n",
       "      <td>40</td>\n",
       "      <td>35</td>\n",
       "      <td>168</td>\n",
       "      <td>43.1</td>\n",
       "      <td>2.288</td>\n",
       "      <td>33</td>\n",
       "      <td>1</td>\n",
       "    </tr>\n",
       "  </tbody>\n",
       "</table>\n",
       "</div>"
      ],
      "text/plain": [
       "   Pregnancies  Glucose  BloodPressure  SkinThickness  Insulin   BMI  \\\n",
       "0            6      148             72             35        0  33.6   \n",
       "1            1       85             66             29        0  26.6   \n",
       "2            8      183             64              0        0  23.3   \n",
       "3            1       89             66             23       94  28.1   \n",
       "4            0      137             40             35      168  43.1   \n",
       "\n",
       "   DiabetesPedigreeFunction  Age  Outcome  \n",
       "0                     0.627   50        1  \n",
       "1                     0.351   31        0  \n",
       "2                     0.672   32        1  \n",
       "3                     0.167   21        0  \n",
       "4                     2.288   33        1  "
      ]
     },
     "execution_count": 2,
     "metadata": {},
     "output_type": "execute_result"
    }
   ],
   "source": [
    "diabetes_df = pd.read_csv('./data/diabetes.csv')\n",
    "diabetes_df.head()"
   ]
  },
  {
   "cell_type": "code",
   "execution_count": 3,
   "metadata": {},
   "outputs": [
    {
     "data": {
      "text/plain": [
       "0    500\n",
       "1    268\n",
       "Name: Outcome, dtype: int64"
      ]
     },
     "execution_count": 3,
     "metadata": {},
     "output_type": "execute_result"
    }
   ],
   "source": [
    "diabetes_df.Outcome.value_counts()"
   ]
  },
  {
   "cell_type": "code",
   "execution_count": 4,
   "metadata": {},
   "outputs": [],
   "source": [
    "def split_target(data, target):\n",
    "    data = data.copy()\n",
    "\n",
    "    y = data[target].ravel()\n",
    "\n",
    "    X = data.copy()\n",
    "    X = X.drop(columns=target, axis=1)\n",
    "\n",
    "    return X, y"
   ]
  },
  {
   "cell_type": "code",
   "execution_count": 5,
   "metadata": {},
   "outputs": [],
   "source": [
    "X, y = split_target(data=diabetes_df, target='Outcome')"
   ]
  },
  {
   "cell_type": "code",
   "execution_count": 6,
   "metadata": {},
   "outputs": [],
   "source": [
    "X_train, X_test, y_train, y_test = train_test_split(X, y, random_state=1, stratify=y)"
   ]
  },
  {
   "cell_type": "code",
   "execution_count": 7,
   "metadata": {},
   "outputs": [],
   "source": [
    "def scale_X(X_train, X_test):\n",
    "    scl = StandardScaler()\n",
    "    X_scl = scl.fit(X_train)\n",
    "\n",
    "    X_train_scaled = X_scl.transform(X_train)\n",
    "    X_test_scaled = X_scl.transform(X_test)\n",
    "\n",
    "    return X_train_scaled, X_test_scaled"
   ]
  },
  {
   "cell_type": "code",
   "execution_count": 8,
   "metadata": {},
   "outputs": [],
   "source": [
    "X_train, X_test = scale_X(X_train, X_test)"
   ]
  },
  {
   "cell_type": "code",
   "execution_count": 9,
   "metadata": {},
   "outputs": [],
   "source": [
    "logreg = LogisticRegression()\n",
    "logreg.fit(X_train, y_train)\n",
    "y_pred = logreg.predict(X_test)   "
   ]
  },
  {
   "cell_type": "code",
   "execution_count": 24,
   "metadata": {},
   "outputs": [],
   "source": [
    "def measure_accuracy(model, y_test, y_pred):\n",
    "    predict_df = pd.DataFrame({\n",
    "        'actual':y_pred,\n",
    "        'prediction':y_test\n",
    "    })\n",
    "\n",
    "    accuracy = accuracy_score(y_test, y_pred)\n",
    "\n",
    "    cm = confusion_matrix(y_test, y_pred)\n",
    "    cm_df = pd.DataFrame(cm, columns=['Predicted 0','Predicted 1'], index=['Actual 0','Actual 1'])\n",
    "\n",
    "    crib = classification_report_imbalanced(y_test, y_pred)\n",
    "    \n",
    "    print(f'{model} Results')\n",
    "    print(f'Accuracy Score: {accuracy}')\n",
    "    print(confusion_matrix_)\n",
    "    print(classification_report)\n",
    "\n",
    "    return predict_df, accuracy, cm_df, crib"
   ]
  },
  {
   "cell_type": "code",
   "execution_count": 28,
   "metadata": {},
   "outputs": [
    {
     "name": "stdout",
     "output_type": "stream",
     "text": [
      "Logistic Regression Model Results\n",
      "Accuracy Score: 0.7760416666666666\n",
      "          Predicted 0  Predicted 1\n",
      "Actual 0          113           12\n",
      "Actual 1           31           36\n",
      "                   pre       rec       spe        f1       geo       iba       sup\n",
      "\n",
      "          0       0.78      0.90      0.54      0.84      0.70      0.50       125\n",
      "          1       0.75      0.54      0.90      0.63      0.70      0.47        67\n",
      "\n",
      "avg / total       0.77      0.78      0.67      0.77      0.70      0.49       192\n",
      "\n"
     ]
    }
   ],
   "source": [
    "predictions, accuracy, confusion_matrix_, classification_report = measure_accuracy(model='Logistic Regression Model', y_test=y_test, y_pred=y_pred)"
   ]
  },
  {
   "cell_type": "code",
   "execution_count": 29,
   "metadata": {},
   "outputs": [
    {
     "data": {
      "text/html": [
       "<div>\n",
       "<style scoped>\n",
       "    .dataframe tbody tr th:only-of-type {\n",
       "        vertical-align: middle;\n",
       "    }\n",
       "\n",
       "    .dataframe tbody tr th {\n",
       "        vertical-align: top;\n",
       "    }\n",
       "\n",
       "    .dataframe thead th {\n",
       "        text-align: right;\n",
       "    }\n",
       "</style>\n",
       "<table border=\"1\" class=\"dataframe\">\n",
       "  <thead>\n",
       "    <tr style=\"text-align: right;\">\n",
       "      <th></th>\n",
       "      <th>actual</th>\n",
       "      <th>prediction</th>\n",
       "    </tr>\n",
       "  </thead>\n",
       "  <tbody>\n",
       "    <tr>\n",
       "      <th>0</th>\n",
       "      <td>0</td>\n",
       "      <td>0</td>\n",
       "    </tr>\n",
       "    <tr>\n",
       "      <th>1</th>\n",
       "      <td>1</td>\n",
       "      <td>1</td>\n",
       "    </tr>\n",
       "    <tr>\n",
       "      <th>2</th>\n",
       "      <td>0</td>\n",
       "      <td>0</td>\n",
       "    </tr>\n",
       "    <tr>\n",
       "      <th>3</th>\n",
       "      <td>1</td>\n",
       "      <td>1</td>\n",
       "    </tr>\n",
       "    <tr>\n",
       "      <th>4</th>\n",
       "      <td>0</td>\n",
       "      <td>0</td>\n",
       "    </tr>\n",
       "  </tbody>\n",
       "</table>\n",
       "</div>"
      ],
      "text/plain": [
       "   actual  prediction\n",
       "0       0           0\n",
       "1       1           1\n",
       "2       0           0\n",
       "3       1           1\n",
       "4       0           0"
      ]
     },
     "execution_count": 29,
     "metadata": {},
     "output_type": "execute_result"
    }
   ],
   "source": [
    "predictions.head()"
   ]
  },
  {
   "cell_type": "code",
   "execution_count": 31,
   "metadata": {},
   "outputs": [],
   "source": [
    "def make_1h_nn_model(data, neurons):\n",
    "    input_features = len(data[0])\n",
    "\n",
    "    model = tf.keras.models.Sequential()\n",
    "\n",
    "    model.add(tf.keras.layers.Dense(units=neurons, input_dim=input_features, activation='relu'))\n",
    "\n",
    "    model.add(tf.keras.layers.Dense(units=1, activation='sigmoid'))\n",
    "\n",
    "    model.summary()\n",
    "    return model\n",
    "    "
   ]
  },
  {
   "cell_type": "code",
   "execution_count": 32,
   "metadata": {},
   "outputs": [
    {
     "name": "stdout",
     "output_type": "stream",
     "text": [
      "Model: \"sequential\"\n",
      "_________________________________________________________________\n",
      " Layer (type)                Output Shape              Param #   \n",
      "=================================================================\n",
      " dense (Dense)               (None, 12)                108       \n",
      "                                                                 \n",
      " dense_1 (Dense)             (None, 1)                 13        \n",
      "                                                                 \n",
      "=================================================================\n",
      "Total params: 121\n",
      "Trainable params: 121\n",
      "Non-trainable params: 0\n",
      "_________________________________________________________________\n"
     ]
    }
   ],
   "source": [
    "nn_1h_model = make_1h_nn_model(X_train, neurons=12)"
   ]
  },
  {
   "cell_type": "code",
   "execution_count": 33,
   "metadata": {},
   "outputs": [],
   "source": [
    "def make_2h_nn_model(data, neurons_1, neurons_2):\n",
    "    input_features = len(data[0])\n",
    "\n",
    "    model = tf.keras.models.Sequential()\n",
    "\n",
    "    model.add(tf.keras.layers.Dense(units=neurons_1, input_dim=input_features, activation='relu'))\n",
    "    model.add(tf.keras.layers.Dense(units=neurons_2, activation='relu'))\n",
    "    model.add(tf.keras.layers.Dense(units=1, activation='sigmoid'))\n",
    "\n",
    "    model.summary()\n",
    "\n",
    "    return model"
   ]
  },
  {
   "cell_type": "code",
   "execution_count": 34,
   "metadata": {},
   "outputs": [
    {
     "name": "stdout",
     "output_type": "stream",
     "text": [
      "Model: \"sequential_1\"\n",
      "_________________________________________________________________\n",
      " Layer (type)                Output Shape              Param #   \n",
      "=================================================================\n",
      " dense_2 (Dense)             (None, 12)                108       \n",
      "                                                                 \n",
      " dense_3 (Dense)             (None, 8)                 104       \n",
      "                                                                 \n",
      " dense_4 (Dense)             (None, 1)                 9         \n",
      "                                                                 \n",
      "=================================================================\n",
      "Total params: 221\n",
      "Trainable params: 221\n",
      "Non-trainable params: 0\n",
      "_________________________________________________________________\n"
     ]
    }
   ],
   "source": [
    "nn_2h_model = make_2h_nn_model(X_train, neurons_1=12, neurons_2=8)"
   ]
  },
  {
   "cell_type": "code",
   "execution_count": 35,
   "metadata": {},
   "outputs": [
    {
     "name": "stdout",
     "output_type": "stream",
     "text": [
      "Epoch 1/100\n",
      "18/18 [==============================] - 1s 1ms/step - loss: 0.7946 - accuracy: 0.4132\n",
      "Epoch 2/100\n",
      "18/18 [==============================] - 0s 1ms/step - loss: 0.7470 - accuracy: 0.4618\n",
      "Epoch 3/100\n",
      "18/18 [==============================] - 0s 2ms/step - loss: 0.7049 - accuracy: 0.5365\n",
      "Epoch 4/100\n",
      "18/18 [==============================] - 0s 2ms/step - loss: 0.6708 - accuracy: 0.6042\n",
      "Epoch 5/100\n",
      "18/18 [==============================] - 0s 2ms/step - loss: 0.6396 - accuracy: 0.6667\n",
      "Epoch 6/100\n",
      "18/18 [==============================] - 0s 2ms/step - loss: 0.6143 - accuracy: 0.6875\n",
      "Epoch 7/100\n",
      "18/18 [==============================] - 0s 2ms/step - loss: 0.5918 - accuracy: 0.7066\n",
      "Epoch 8/100\n",
      "18/18 [==============================] - 0s 2ms/step - loss: 0.5727 - accuracy: 0.7188\n",
      "Epoch 9/100\n",
      "18/18 [==============================] - 0s 1ms/step - loss: 0.5561 - accuracy: 0.7361\n",
      "Epoch 10/100\n",
      "18/18 [==============================] - 0s 2ms/step - loss: 0.5411 - accuracy: 0.7431\n",
      "Epoch 11/100\n",
      "18/18 [==============================] - 0s 2ms/step - loss: 0.5292 - accuracy: 0.7448\n",
      "Epoch 12/100\n",
      "18/18 [==============================] - 0s 2ms/step - loss: 0.5190 - accuracy: 0.7517\n",
      "Epoch 13/100\n",
      "18/18 [==============================] - 0s 2ms/step - loss: 0.5098 - accuracy: 0.7639\n",
      "Epoch 14/100\n",
      "18/18 [==============================] - 0s 2ms/step - loss: 0.5024 - accuracy: 0.7622\n",
      "Epoch 15/100\n",
      "18/18 [==============================] - 0s 1ms/step - loss: 0.4959 - accuracy: 0.7656\n",
      "Epoch 16/100\n",
      "18/18 [==============================] - 0s 2ms/step - loss: 0.4905 - accuracy: 0.7656\n",
      "Epoch 17/100\n",
      "18/18 [==============================] - 0s 2ms/step - loss: 0.4853 - accuracy: 0.7691\n",
      "Epoch 18/100\n",
      "18/18 [==============================] - 0s 1ms/step - loss: 0.4812 - accuracy: 0.7726\n",
      "Epoch 19/100\n",
      "18/18 [==============================] - 0s 2ms/step - loss: 0.4772 - accuracy: 0.7726\n",
      "Epoch 20/100\n",
      "18/18 [==============================] - 0s 2ms/step - loss: 0.4743 - accuracy: 0.7743\n",
      "Epoch 21/100\n",
      "18/18 [==============================] - 0s 2ms/step - loss: 0.4711 - accuracy: 0.7760\n",
      "Epoch 22/100\n",
      "18/18 [==============================] - 0s 2ms/step - loss: 0.4689 - accuracy: 0.7743\n",
      "Epoch 23/100\n",
      "18/18 [==============================] - 0s 1ms/step - loss: 0.4664 - accuracy: 0.7760\n",
      "Epoch 24/100\n",
      "18/18 [==============================] - 0s 2ms/step - loss: 0.4647 - accuracy: 0.7778\n",
      "Epoch 25/100\n",
      "18/18 [==============================] - 0s 1ms/step - loss: 0.4627 - accuracy: 0.7830\n",
      "Epoch 26/100\n",
      "18/18 [==============================] - 0s 4ms/step - loss: 0.4609 - accuracy: 0.7795\n",
      "Epoch 27/100\n",
      "18/18 [==============================] - 0s 2ms/step - loss: 0.4597 - accuracy: 0.7830\n",
      "Epoch 28/100\n",
      "18/18 [==============================] - 0s 1ms/step - loss: 0.4582 - accuracy: 0.7847\n",
      "Epoch 29/100\n",
      "18/18 [==============================] - 0s 2ms/step - loss: 0.4567 - accuracy: 0.7847\n",
      "Epoch 30/100\n",
      "18/18 [==============================] - 0s 2ms/step - loss: 0.4559 - accuracy: 0.7847\n",
      "Epoch 31/100\n",
      "18/18 [==============================] - 0s 2ms/step - loss: 0.4546 - accuracy: 0.7847\n",
      "Epoch 32/100\n",
      "18/18 [==============================] - 0s 2ms/step - loss: 0.4538 - accuracy: 0.7847\n",
      "Epoch 33/100\n",
      "18/18 [==============================] - 0s 1ms/step - loss: 0.4526 - accuracy: 0.7865\n",
      "Epoch 34/100\n",
      "18/18 [==============================] - 0s 2ms/step - loss: 0.4521 - accuracy: 0.7847\n",
      "Epoch 35/100\n",
      "18/18 [==============================] - 0s 2ms/step - loss: 0.4507 - accuracy: 0.7830\n",
      "Epoch 36/100\n",
      "18/18 [==============================] - 0s 2ms/step - loss: 0.4503 - accuracy: 0.7847\n",
      "Epoch 37/100\n",
      "18/18 [==============================] - 0s 2ms/step - loss: 0.4494 - accuracy: 0.7847\n",
      "Epoch 38/100\n",
      "18/18 [==============================] - 0s 2ms/step - loss: 0.4483 - accuracy: 0.7847\n",
      "Epoch 39/100\n",
      "18/18 [==============================] - 0s 2ms/step - loss: 0.4474 - accuracy: 0.7830\n",
      "Epoch 40/100\n",
      "18/18 [==============================] - 0s 1ms/step - loss: 0.4466 - accuracy: 0.7830\n",
      "Epoch 41/100\n",
      "18/18 [==============================] - 0s 1ms/step - loss: 0.4457 - accuracy: 0.7865\n",
      "Epoch 42/100\n",
      "18/18 [==============================] - 0s 1ms/step - loss: 0.4450 - accuracy: 0.7865\n",
      "Epoch 43/100\n",
      "18/18 [==============================] - 0s 1ms/step - loss: 0.4449 - accuracy: 0.7865\n",
      "Epoch 44/100\n",
      "18/18 [==============================] - 0s 1ms/step - loss: 0.4435 - accuracy: 0.7865\n",
      "Epoch 45/100\n",
      "18/18 [==============================] - 0s 3ms/step - loss: 0.4431 - accuracy: 0.7882\n",
      "Epoch 46/100\n",
      "18/18 [==============================] - 0s 3ms/step - loss: 0.4423 - accuracy: 0.7882\n",
      "Epoch 47/100\n",
      "18/18 [==============================] - 0s 2ms/step - loss: 0.4427 - accuracy: 0.7865\n",
      "Epoch 48/100\n",
      "18/18 [==============================] - 0s 2ms/step - loss: 0.4407 - accuracy: 0.7865\n",
      "Epoch 49/100\n",
      "18/18 [==============================] - 0s 2ms/step - loss: 0.4399 - accuracy: 0.7882\n",
      "Epoch 50/100\n",
      "18/18 [==============================] - 0s 2ms/step - loss: 0.4392 - accuracy: 0.7882\n",
      "Epoch 51/100\n",
      "18/18 [==============================] - 0s 1ms/step - loss: 0.4385 - accuracy: 0.7882\n",
      "Epoch 52/100\n",
      "18/18 [==============================] - 0s 1ms/step - loss: 0.4379 - accuracy: 0.7882\n",
      "Epoch 53/100\n",
      "18/18 [==============================] - 0s 1ms/step - loss: 0.4373 - accuracy: 0.7865\n",
      "Epoch 54/100\n",
      "18/18 [==============================] - 0s 1ms/step - loss: 0.4366 - accuracy: 0.7865\n",
      "Epoch 55/100\n",
      "18/18 [==============================] - 0s 1ms/step - loss: 0.4362 - accuracy: 0.7882\n",
      "Epoch 56/100\n",
      "18/18 [==============================] - 0s 1ms/step - loss: 0.4351 - accuracy: 0.7865\n",
      "Epoch 57/100\n",
      "18/18 [==============================] - 0s 1ms/step - loss: 0.4348 - accuracy: 0.7882\n",
      "Epoch 58/100\n",
      "18/18 [==============================] - 0s 1ms/step - loss: 0.4343 - accuracy: 0.7865\n",
      "Epoch 59/100\n",
      "18/18 [==============================] - 0s 1ms/step - loss: 0.4335 - accuracy: 0.7882\n",
      "Epoch 60/100\n",
      "18/18 [==============================] - 0s 1ms/step - loss: 0.4331 - accuracy: 0.7882\n",
      "Epoch 61/100\n",
      "18/18 [==============================] - 0s 1ms/step - loss: 0.4323 - accuracy: 0.7882\n",
      "Epoch 62/100\n",
      "18/18 [==============================] - 0s 1ms/step - loss: 0.4318 - accuracy: 0.7882\n",
      "Epoch 63/100\n",
      "18/18 [==============================] - 0s 2ms/step - loss: 0.4309 - accuracy: 0.7882\n",
      "Epoch 64/100\n",
      "18/18 [==============================] - 0s 1ms/step - loss: 0.4304 - accuracy: 0.7882\n",
      "Epoch 65/100\n",
      "18/18 [==============================] - 0s 2ms/step - loss: 0.4303 - accuracy: 0.7882\n",
      "Epoch 66/100\n",
      "18/18 [==============================] - 0s 2ms/step - loss: 0.4295 - accuracy: 0.7865\n",
      "Epoch 67/100\n",
      "18/18 [==============================] - 0s 2ms/step - loss: 0.4290 - accuracy: 0.7865\n",
      "Epoch 68/100\n",
      "18/18 [==============================] - 0s 1ms/step - loss: 0.4282 - accuracy: 0.7847\n",
      "Epoch 69/100\n",
      "18/18 [==============================] - 0s 2ms/step - loss: 0.4278 - accuracy: 0.7865\n",
      "Epoch 70/100\n",
      "18/18 [==============================] - 0s 2ms/step - loss: 0.4275 - accuracy: 0.7847\n",
      "Epoch 71/100\n",
      "18/18 [==============================] - 0s 1ms/step - loss: 0.4269 - accuracy: 0.7882\n",
      "Epoch 72/100\n",
      "18/18 [==============================] - 0s 1ms/step - loss: 0.4264 - accuracy: 0.7865\n",
      "Epoch 73/100\n",
      "18/18 [==============================] - 0s 2ms/step - loss: 0.4259 - accuracy: 0.7899\n",
      "Epoch 74/100\n",
      "18/18 [==============================] - 0s 2ms/step - loss: 0.4254 - accuracy: 0.7899\n",
      "Epoch 75/100\n",
      "18/18 [==============================] - 0s 1ms/step - loss: 0.4248 - accuracy: 0.7899\n",
      "Epoch 76/100\n",
      "18/18 [==============================] - 0s 1ms/step - loss: 0.4244 - accuracy: 0.7899\n",
      "Epoch 77/100\n",
      "18/18 [==============================] - 0s 1ms/step - loss: 0.4239 - accuracy: 0.7917\n",
      "Epoch 78/100\n",
      "18/18 [==============================] - 0s 1ms/step - loss: 0.4238 - accuracy: 0.7899\n",
      "Epoch 79/100\n",
      "18/18 [==============================] - 0s 1ms/step - loss: 0.4232 - accuracy: 0.7934\n",
      "Epoch 80/100\n",
      "18/18 [==============================] - 0s 1ms/step - loss: 0.4228 - accuracy: 0.7934\n",
      "Epoch 81/100\n",
      "18/18 [==============================] - 0s 1ms/step - loss: 0.4223 - accuracy: 0.7934\n",
      "Epoch 82/100\n",
      "18/18 [==============================] - 0s 1ms/step - loss: 0.4221 - accuracy: 0.7969\n",
      "Epoch 83/100\n",
      "18/18 [==============================] - 0s 1ms/step - loss: 0.4216 - accuracy: 0.7969\n",
      "Epoch 84/100\n",
      "18/18 [==============================] - 0s 1ms/step - loss: 0.4215 - accuracy: 0.7986\n",
      "Epoch 85/100\n",
      "18/18 [==============================] - 0s 1ms/step - loss: 0.4216 - accuracy: 0.8003\n",
      "Epoch 86/100\n",
      "18/18 [==============================] - 0s 1ms/step - loss: 0.4207 - accuracy: 0.8003\n",
      "Epoch 87/100\n",
      "18/18 [==============================] - 0s 1ms/step - loss: 0.4204 - accuracy: 0.7969\n",
      "Epoch 88/100\n",
      "18/18 [==============================] - 0s 1ms/step - loss: 0.4203 - accuracy: 0.8003\n",
      "Epoch 89/100\n",
      "18/18 [==============================] - 0s 1ms/step - loss: 0.4197 - accuracy: 0.7986\n",
      "Epoch 90/100\n",
      "18/18 [==============================] - 0s 1ms/step - loss: 0.4195 - accuracy: 0.7969\n",
      "Epoch 91/100\n",
      "18/18 [==============================] - 0s 1ms/step - loss: 0.4194 - accuracy: 0.7951\n",
      "Epoch 92/100\n",
      "18/18 [==============================] - 0s 1ms/step - loss: 0.4188 - accuracy: 0.7969\n",
      "Epoch 93/100\n",
      "18/18 [==============================] - 0s 1ms/step - loss: 0.4185 - accuracy: 0.8003\n",
      "Epoch 94/100\n",
      "18/18 [==============================] - 0s 1ms/step - loss: 0.4184 - accuracy: 0.8003\n",
      "Epoch 95/100\n",
      "18/18 [==============================] - 0s 1ms/step - loss: 0.4183 - accuracy: 0.7986\n",
      "Epoch 96/100\n",
      "18/18 [==============================] - 0s 1ms/step - loss: 0.4177 - accuracy: 0.8003\n",
      "Epoch 97/100\n",
      "18/18 [==============================] - 0s 1ms/step - loss: 0.4175 - accuracy: 0.8021\n",
      "Epoch 98/100\n",
      "18/18 [==============================] - 0s 1ms/step - loss: 0.4173 - accuracy: 0.7986\n",
      "Epoch 99/100\n",
      "18/18 [==============================] - 0s 1ms/step - loss: 0.4171 - accuracy: 0.8003\n",
      "Epoch 100/100\n",
      "18/18 [==============================] - 0s 1ms/step - loss: 0.4166 - accuracy: 0.8003\n"
     ]
    }
   ],
   "source": [
    "nn_1h_model.compile(loss='binary_crossentropy', optimizer='adam', metrics=['accuracy'])\n",
    "fit_model = nn_1h_model.fit(X_train, y_train, epochs=100)"
   ]
  },
  {
   "cell_type": "code",
   "execution_count": 36,
   "metadata": {},
   "outputs": [],
   "source": [
    "def get_loss_accuracy(model):\n",
    "\n",
    "    index_range = range(1,len(model.history['loss'])+1)\n",
    "\n",
    "    la_df = pd.DataFrame(model.history, index=index_range)\n",
    "\n",
    "    plt.subplots()\n",
    "    plt.plot(la_df, label=['loss','accuracy'])\n",
    "    plt.legend()\n",
    "    plt.title(f'loss/accuracy over {len(index_range)} epochs')\n",
    "\n",
    "    return la_df"
   ]
  },
  {
   "cell_type": "code",
   "execution_count": 37,
   "metadata": {},
   "outputs": [
    {
     "data": {
      "image/png": "[encoded data removed]",
      "text/plain": [
       "<Figure size 640x480 with 1 Axes>"
      ]
     },
     "metadata": {},
     "output_type": "display_data"
    }
   ],
   "source": [
    "accuracy_df = get_loss_accuracy(fit_model)"
   ]
  },
  {
   "cell_type": "code",
   "execution_count": 38,
   "metadata": {},
   "outputs": [
    {
     "name": "stdout",
     "output_type": "stream",
     "text": [
      "6/6 [==============================] - 0s 1ms/step - loss: 0.5560 - accuracy: 0.7344\n",
      "Loss: 0.5559502243995667 | Accuracy: 0.734375\n"
     ]
    }
   ],
   "source": [
    "model_loss, model_accuracy = nn_1h_model.evaluate(X_test, y_test)\n",
    "print(f'Loss: {model_loss} | Accuracy: {model_accuracy}')"
   ]
  },
  {
   "cell_type": "code",
   "execution_count": 39,
   "metadata": {},
   "outputs": [
    {
     "name": "stdout",
     "output_type": "stream",
     "text": [
      "6/6 [==============================] - 0s 1ms/step\n"
     ]
    }
   ],
   "source": [
    "nn_pred = (nn_1h_model.predict(X_test) > 0.5).astype('int')\n",
    "nn_y_pred = nn_pred.ravel()"
   ]
  },
  {
   "cell_type": "code",
   "execution_count": 41,
   "metadata": {},
   "outputs": [
    {
     "name": "stdout",
     "output_type": "stream",
     "text": [
      "Neural Network 1H Model Results\n",
      "Accuracy Score: 0.734375\n",
      "          Predicted 0  Predicted 1\n",
      "Actual 0          113           12\n",
      "Actual 1           31           36\n",
      "                   pre       rec       spe        f1       geo       iba       sup\n",
      "\n",
      "          0       0.78      0.90      0.54      0.84      0.70      0.50       125\n",
      "          1       0.75      0.54      0.90      0.63      0.70      0.47        67\n",
      "\n",
      "avg / total       0.77      0.78      0.67      0.77      0.70      0.49       192\n",
      "\n"
     ]
    }
   ],
   "source": [
    "nn_predictions, nn_accuracy, nn_confusion_matrix_, nn_classification_report = measure_accuracy(model='Neural Network 1H Model', y_test=y_test, y_pred=nn_y_pred)"
   ]
  },
  {
   "cell_type": "code",
   "execution_count": null,
   "metadata": {},
   "outputs": [],
   "source": []
  }
 ],
 "metadata": {
  "kernelspec": {
   "display_name": "mlenv",
   "language": "python",
   "name": "mlenv"
  },
  "language_info": {
   "codemirror_mode": {
    "name": "ipython",
    "version": 3
   },
   "file_extension": ".py",
   "mimetype": "text/x-python",
   "name": "python",
   "nbconvert_exporter": "python",
   "pygments_lexer": "ipython3",
   "version": "3.9.16"
  },
  "orig_nbformat": 4,
  "vscode": {
   "interpreter": {
    "hash": "37c31bcc7789473aa20d28a71977c2d878259e4427f5afcc770ae696b6a8f76c"
   }
  }
 },
 "nbformat": 4,
 "nbformat_minor": 2
}
